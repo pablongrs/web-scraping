{
 "cells": [
  {
   "cell_type": "code",
   "execution_count": 1,
   "metadata": {},
   "outputs": [],
   "source": [
    "import pymysql"
   ]
  },
  {
   "cell_type": "code",
   "execution_count": 4,
   "metadata": {},
   "outputs": [
    {
     "name": "stdout",
     "output_type": "stream",
     "text": [
      "CONEXION EXITOSA!\n"
     ]
    }
   ],
   "source": [
    "conexion = pymysql.connect(\n",
    "    host='localhost',\n",
    "    user='goat',\n",
    "    passwd='leo.messi',\n",
    "    database='search_engineDB'\n",
    ")\n",
    "if conexion:\n",
    "    print(\"CONEXION EXITOSA!\")"
   ]
  },
  {
   "cell_type": "markdown",
   "metadata": {},
   "source": [
    "<small>Por el momento solo habra 2 tablas\n",
    "- Market: Almacena el nombre del supermercado \n",
    "- Product: Almacena el nombre del producto, la marca y el tamaño <small>"
   ]
  },
  {
   "cell_type": "code",
   "execution_count": 12,
   "metadata": {},
   "outputs": [
    {
     "name": "stdout",
     "output_type": "stream",
     "text": [
      "Tabla creada exitosamente\n"
     ]
    }
   ],
   "source": [
    "#para ejecutar los comandos sql\n",
    "cursor = conexion.cursor()\n",
    "#La base de datos la cree desde mysql. \n",
    "cursor.execute('USE search_engineDB')\n",
    "\n",
    "tabla_mercado = \"\"\"\n",
    "CREATE TABLE IF NOT EXISTS market(\n",
    "    id_market INT NOT NULL AUTO_INCREMENT,\n",
    "    name_market VARCHAR(30),\n",
    "    PRIMARY KEY(id_market)\n",
    ")\n",
    "\"\"\"\n",
    "tabla_producto = \"\"\"\n",
    "CREATE TABLE IF NOT EXISTS product(\n",
    "    id_producto INT NOT NULL AUTO_INCREMENT,\n",
    "    producto VARCHAR(80),\n",
    "    marca VARCHAR(80),\n",
    "    tamanio VARCHAR(10),\n",
    "    id_market INT NOT NULL,\n",
    "    PRIMARY KEY(id_producto),\n",
    "    FOREIGN KEY(id_market) REFERENCES market(id_market)\n",
    ")\n",
    "\"\"\"\n",
    "try:\n",
    "    cursor.execute(tabla_mercado)\n",
    "    cursor.execute(tabla_producto)\n",
    "    conexion.commit()\n",
    "    print(\"Tablas creadas exitosamente\")\n",
    "except pymysql.MySQLError as e:\n",
    "    print(f\"Error en la ejecución SQL: {e}\")"
   ]
  },
  {
   "cell_type": "code",
   "execution_count": null,
   "metadata": {},
   "outputs": [],
   "source": [
    "#Cierro la conexion (hacerlo siempre)\n",
    "conexion.close()"
   ]
  }
 ],
 "metadata": {
  "kernelspec": {
   "display_name": "Python 3",
   "language": "python",
   "name": "python3"
  },
  "language_info": {
   "codemirror_mode": {
    "name": "ipython",
    "version": 3
   },
   "file_extension": ".py",
   "mimetype": "text/x-python",
   "name": "python",
   "nbconvert_exporter": "python",
   "pygments_lexer": "ipython3",
   "version": "3.10.11"
  }
 },
 "nbformat": 4,
 "nbformat_minor": 2
}
